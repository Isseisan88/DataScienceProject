{
 "cells": [
  {
   "cell_type": "markdown",
   "id": "14ca9493-3041-4687-a71a-54ac8656784c",
   "metadata": {},
   "source": [
    "# Data Science Tools and Ecosystem"
   ]
  },
  {
   "cell_type": "markdown",
   "id": "90f2510e-7826-4038-992f-37a5a6cb3a44",
   "metadata": {},
   "source": [
    "In this notebook, Data Science Tools and Ecosystem are summarized.\n"
   ]
  },
  {
   "cell_type": "markdown",
   "id": "f0a9b220-6f23-4e77-bd54-19cab51e9680",
   "metadata": {},
   "source": [
    "Some of the popular languages that Data Scientists use are:\n",
    "\n",
    "1. Python\n",
    "2. R\n",
    "3. SQL\n",
    "4. Julia\n"
   ]
  },
  {
   "cell_type": "markdown",
   "id": "9d698772-1ba8-40dd-a2bf-47edfce57ee0",
   "metadata": {},
   "source": [
    "Some of the commonly used libraries used by Data Scientists include:\n",
    "\n",
    "1. Pandas\n",
    "2. NumPy\n",
    "3. Scikit-learn\n",
    "4. TensorFlow\n"
   ]
  },
  {
   "cell_type": "markdown",
   "id": "8233015d-7709-4c9d-b0fa-d465dd98ace8",
   "metadata": {},
   "source": [
    "| Data Science Tools |\n",
    "|--------------------|\n",
    "| Jupyter Notebook  |\n",
    "| RStudio          |\n",
    "| Apache Zeppelin  |\n"
   ]
  },
  {
   "cell_type": "markdown",
   "id": "755ba6f5-b618-45c3-a2fd-add57b00af65",
   "metadata": {},
   "source": [
    "### Below are a few examples of evaluating arithmetic expressions in Python.\n"
   ]
  },
  {
   "cell_type": "code",
   "execution_count": 3,
   "id": "5f17881f-a595-4dfe-aeb5-ec72f59282ff",
   "metadata": {},
   "outputs": [
    {
     "data": {
      "text/plain": [
       "17"
      ]
     },
     "execution_count": 3,
     "metadata": {},
     "output_type": "execute_result"
    }
   ],
   "source": [
    "# This is a simple arithmetic expression to multiply then add integers\n",
    "(3 * 4) + 5\n"
   ]
  },
  {
   "cell_type": "code",
   "execution_count": 4,
   "id": "699bfe5b-f6be-4250-afa0-6a86d53cd862",
   "metadata": {},
   "outputs": [
    {
     "data": {
      "text/plain": [
       "3.3333333333333335"
      ]
     },
     "execution_count": 4,
     "metadata": {},
     "output_type": "execute_result"
    }
   ],
   "source": [
    "# This will convert 200 minutes to hours by dividing by 60\n",
    "200 / 60\n"
   ]
  },
  {
   "cell_type": "markdown",
   "id": "a4fccffa-4399-4463-976b-1de3d3444cee",
   "metadata": {},
   "source": [
    "**Objectives:**\n",
    "\n",
    "- List popular languages for Data Science\n",
    "- List commonly used Data Science libraries\n",
    "- Create a table of Data Science Tools\n",
    "- Demonstrate basic arithmetic expressions in Python\n",
    "- Convert time from minutes to hours\n"
   ]
  },
  {
   "cell_type": "markdown",
   "id": "630bd968-7efb-4b12-adb1-c526a23bc657",
   "metadata": {},
   "source": [
    "## Author\n",
    "\n",
    "G. Henrik\n"
   ]
  },
  {
   "cell_type": "code",
   "execution_count": null,
   "id": "e9416b35-f0e6-46d8-8b98-efbc818e6860",
   "metadata": {},
   "outputs": [],
   "source": []
  }
 ],
 "metadata": {
  "kernelspec": {
   "display_name": "Python 3 (ipykernel)",
   "language": "python",
   "name": "python3"
  },
  "language_info": {
   "codemirror_mode": {
    "name": "ipython",
    "version": 3
   },
   "file_extension": ".py",
   "mimetype": "text/x-python",
   "name": "python",
   "nbconvert_exporter": "python",
   "pygments_lexer": "ipython3",
   "version": "3.11.2"
  }
 },
 "nbformat": 4,
 "nbformat_minor": 5
}
